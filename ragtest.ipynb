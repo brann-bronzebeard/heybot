{
 "cells": [
  {
   "cell_type": "code",
   "execution_count": 4,
   "metadata": {},
   "outputs": [],
   "source": [
    "import ollama\n",
    "import chromadb\n",
    "\n",
    "documents = [\n",
    "  \"Llamas are members of the camelid family meaning they're pretty closely related to vicuñas and camels\",\n",
    "  \"Llamas were first domesticated and used as pack animals 4,000 to 5,000 years ago in the Peruvian highlands\",\n",
    "  \"Llamas can grow as much as 6 feet tall though the average llama between 5 feet 6 inches and 5 feet 9 inches tall\",\n",
    "  \"Llamas weigh between 280 and 450 pounds and can carry 25 to 30 percent of their body weight\",\n",
    "  \"Llamas are vegetarians and have very efficient digestive systems\",\n",
    "  \"Llamas live to be about 20 years old, though some only live for 15 years and others live to be 30 years old\",\n",
    "  \n",
    "]\n",
    "\n",
    "client = chromadb.Client()\n",
    "collection = client.get_or_create_collection(name=\"docs\")\n",
    "\n",
    "# store each document in a vector embedding database\n",
    "for i, d in enumerate(documents):\n",
    "  response = ollama.embeddings(model=\"llama3\", prompt=d)\n",
    "  embedding = response[\"embedding\"]\n",
    "  collection.add(\n",
    "    ids=[str(i)],\n",
    "    embeddings=[embedding],\n",
    "    documents=[d]\n",
    "  )"
   ]
  },
  {
   "cell_type": "code",
   "execution_count": 18,
   "metadata": {},
   "outputs": [
    {
     "name": "stderr",
     "output_type": "stream",
     "text": [
      "Number of requested results 4 is greater than number of elements in index 2, updating n_results = 2\n"
     ]
    },
    {
     "name": "stdout",
     "output_type": "stream",
     "text": [
      "I'm afraid I don't have any information about your dog! But if you'd like to know more about Moody Good, the British DJ and producer, I can certainly help with that. According to what I've learned, Moody Good has been active since 2013, producing music in the dubstep and drum and bass genres. He's released tracks on labels like Never Say Die Records, OWSLA, and Mau5trap, and has collaborated with artists like Skrillex, Noisia, and Kill the Noise. Plus, he's also half of the duo 16bit! Would you like to know more about his music or collaborations?\n"
     ]
    }
   ],
   "source": [
    "from langchain.text_splitter import CharacterTextSplitter\n",
    "from langchain.schema.document import Document\n",
    "\n",
    "text_splitter = CharacterTextSplitter(chunk_size=100, chunk_overlap=20)\n",
    "# text = \"Moody Good is a British DJ and producer who has been active since 2013. He is known for his work in the dubstep and drum and bass genres. He has released music on labels such as Never Say Die Records, OWSLA, and Mau5trap. Some of his most popular tracks include 'Hotplate,' 'Super Lager,' and 'Musicbx.' He has also collaborated with artists such as Skrillex, Noisia, and Kill the Noise. In addition to his solo work, Moody Good is also one half of the duo 16bit.\"\n",
    "text = \"Here is the information about my dogs. Gracie May - Medium tan terrier, the absolute best.\"\n",
    "\n",
    "\n",
    "docs = [Document(page_content=x) for x in text_splitter.split_text(text)]\n",
    "\n",
    "\n",
    "from langchain_community.vectorstores import Chroma\n",
    "from langchain_community.llms import Ollama\n",
    "from langchain_community import embeddings\n",
    "from langchain_community.embeddings import OllamaEmbeddings\n",
    "persist_directory = \"/tmp/chromadb\"\n",
    "vectorstore = Chroma.from_documents(\n",
    "    documents=docs,\n",
    "    collection_name=\"freshh\",\n",
    "    embedding=OllamaEmbeddings(model='llama3')\n",
    ")\n",
    "retriever = vectorstore.as_retriever()\n",
    "\n",
    "\n",
    "from langchain_community.llms import Ollama\n",
    "llm = Ollama(model=\"llama3\")\n",
    "\n",
    "\n",
    "from langchain_core.runnables import RunnablePassthrough\n",
    "from langchain_core.output_parsers import StrOutputParser\n",
    "from langchain_core.prompts import ChatPromptTemplate\n",
    "template = \"\"\"Respond to users as a chatbot.:\n",
    "{context}\n",
    "Question: {question}\n",
    "\"\"\"\n",
    "prompt = ChatPromptTemplate.from_template(template)\n",
    "rag_chain = (\n",
    "    {\"context\": retriever, \"question\": RunnablePassthrough()}\n",
    "    | prompt\n",
    "    | llm\n",
    "    | StrOutputParser()\n",
    ")\n",
    "print(rag_chain.invoke(\"who is my dog?\"))"
   ]
  }
 ],
 "metadata": {
  "kernelspec": {
   "display_name": "Python 3",
   "language": "python",
   "name": "python3"
  },
  "language_info": {
   "codemirror_mode": {
    "name": "ipython",
    "version": 3
   },
   "file_extension": ".py",
   "mimetype": "text/x-python",
   "name": "python",
   "nbconvert_exporter": "python",
   "pygments_lexer": "ipython3",
   "version": "3.11.6"
  }
 },
 "nbformat": 4,
 "nbformat_minor": 2
}
